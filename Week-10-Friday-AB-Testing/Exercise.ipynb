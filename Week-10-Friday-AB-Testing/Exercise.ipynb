{
 "cells": [
  {
   "cell_type": "markdown",
   "id": "marine-stock",
   "metadata": {},
   "source": [
    "# Exercise with A/B Testing\n",
    "\n",
    "### Prompt\n",
    "\n",
    "Let’s imagine you work on the For You Page at TikTok. Your team decides that instead of a heart button, they want to change it to star hoping that it will lead to a higher engagement/like rate. The product manager told you that the current conversion rate is about 6% on average throughout the year, and that the team would be happy with an increase of 3%, meaning that the new design will be considered a success if it raises the engagement rate to 9%.\n",
    "\n",
    "Before rolling out the change, the team would be more comfortable testing it on a small number of users to see how it performs, so you suggest running an A/B test on a subset of the user base users."
   ]
  },
  {
   "cell_type": "code",
   "execution_count": 23,
   "id": "streaming-honor",
   "metadata": {},
   "outputs": [],
   "source": [
    "# Packages imports\n",
    "import numpy as np\n",
    "import pandas as pd\n",
    "\n",
    "# probability distributions & statistical functions\n",
    "import scipy.stats as stats\n",
    "# estimating statistical models\n",
    "import statsmodels.stats.api as sms\n",
    "\n",
    "import matplotlib.pyplot as plt\n",
    "import seaborn as sns\n",
    "\n",
    "#rounding function\n",
    "from math import ceil\n",
    "\n"
   ]
  },
  {
   "cell_type": "markdown",
   "id": "seeing-worse",
   "metadata": {},
   "source": [
    "### Sample Size Calculation"
   ]
  },
  {
   "cell_type": "code",
   "execution_count": 24,
   "id": "popular-permit",
   "metadata": {},
   "outputs": [],
   "source": [
    "# Calculate effect size based on our expected rates\n",
    "effect_size = sms.proportion_effectsize(0.06, 0.09)    # Calculating effect size based on our expected rates\n",
    "                                                        # Effect size for a test comparing two proportions\n",
    "\n",
    "required_n = sms.NormalIndPower().solve_power(\n",
    "    effect_size, \n",
    "    power=0.8, \n",
    "    alpha=0.05, \n",
    "    ratio=1\n",
    "    )                                                  # Calculating sample size needed\n",
    "\n",
    "\n"
   ]
  },
  {
   "cell_type": "code",
   "execution_count": 25,
   "id": "moving-regression",
   "metadata": {},
   "outputs": [
    {
     "name": "stdout",
     "output_type": "stream",
     "text": [
      "1199\n"
     ]
    }
   ],
   "source": [
    "# Calculate sample size needed\n",
    "required_n = ceil(required_n)                          # Rounding up to next whole number                          \n",
    "print(required_n)"
   ]
  },
  {
   "cell_type": "markdown",
   "id": "crucial-editing",
   "metadata": {},
   "source": [
    "### Collecting and preparing the data"
   ]
  },
  {
   "cell_type": "code",
   "execution_count": 26,
   "id": "literary-separate",
   "metadata": {},
   "outputs": [
    {
     "data": {
      "text/html": [
       "<div>\n",
       "<style scoped>\n",
       "    .dataframe tbody tr th:only-of-type {\n",
       "        vertical-align: middle;\n",
       "    }\n",
       "\n",
       "    .dataframe tbody tr th {\n",
       "        vertical-align: top;\n",
       "    }\n",
       "\n",
       "    .dataframe thead th {\n",
       "        text-align: right;\n",
       "    }\n",
       "</style>\n",
       "<table border=\"1\" class=\"dataframe\">\n",
       "  <thead>\n",
       "    <tr style=\"text-align: right;\">\n",
       "      <th></th>\n",
       "      <th>user_id</th>\n",
       "      <th>timestamp</th>\n",
       "      <th>group</th>\n",
       "      <th>button</th>\n",
       "      <th>liked</th>\n",
       "    </tr>\n",
       "  </thead>\n",
       "  <tbody>\n",
       "    <tr>\n",
       "      <th>0</th>\n",
       "      <td>767017</td>\n",
       "      <td>2017-01-12 22:58:15</td>\n",
       "      <td>control</td>\n",
       "      <td>star</td>\n",
       "      <td>0</td>\n",
       "    </tr>\n",
       "    <tr>\n",
       "      <th>1</th>\n",
       "      <td>793849</td>\n",
       "      <td>2017-01-23 22:36:11</td>\n",
       "      <td>treatment</td>\n",
       "      <td>star</td>\n",
       "      <td>0</td>\n",
       "    </tr>\n",
       "    <tr>\n",
       "      <th>2</th>\n",
       "      <td>905617</td>\n",
       "      <td>2017-01-20 14:12:19</td>\n",
       "      <td>treatment</td>\n",
       "      <td>star</td>\n",
       "      <td>0</td>\n",
       "    </tr>\n",
       "    <tr>\n",
       "      <th>3</th>\n",
       "      <td>746742</td>\n",
       "      <td>2017-01-23 11:38:30</td>\n",
       "      <td>control</td>\n",
       "      <td>heart</td>\n",
       "      <td>0</td>\n",
       "    </tr>\n",
       "    <tr>\n",
       "      <th>4</th>\n",
       "      <td>892356</td>\n",
       "      <td>2017-01-05 9:35:15</td>\n",
       "      <td>treatment</td>\n",
       "      <td>star</td>\n",
       "      <td>1</td>\n",
       "    </tr>\n",
       "  </tbody>\n",
       "</table>\n",
       "</div>"
      ],
      "text/plain": [
       "   user_id            timestamp      group button  liked\n",
       "0   767017  2017-01-12 22:58:15    control   star      0\n",
       "1   793849  2017-01-23 22:36:11  treatment   star      0\n",
       "2   905617  2017-01-20 14:12:19  treatment   star      0\n",
       "3   746742  2017-01-23 11:38:30    control  heart      0\n",
       "4   892356   2017-01-05 9:35:15  treatment   star      1"
      ]
     },
     "execution_count": 26,
     "metadata": {},
     "output_type": "execute_result"
    }
   ],
   "source": [
    "# Load the tiktok_data.csv into a dataframe\n",
    "df = pd.read_csv('tiktok_data.csv')\n",
    "df.head()\n"
   ]
  },
  {
   "cell_type": "code",
   "execution_count": 27,
   "id": "described-matrix",
   "metadata": {},
   "outputs": [
    {
     "name": "stdout",
     "output_type": "stream",
     "text": [
      "<class 'pandas.core.frame.DataFrame'>\n",
      "RangeIndex: 275781 entries, 0 to 275780\n",
      "Data columns (total 5 columns):\n",
      " #   Column     Non-Null Count   Dtype \n",
      "---  ------     --------------   ----- \n",
      " 0   user_id    275781 non-null  int64 \n",
      " 1   timestamp  275781 non-null  object\n",
      " 2   group      275781 non-null  object\n",
      " 3   button     275781 non-null  object\n",
      " 4   liked      275781 non-null  int64 \n",
      "dtypes: int64(2), object(3)\n",
      "memory usage: 10.5+ MB\n"
     ]
    }
   ],
   "source": [
    "# Get the info of the dataframe\n",
    "df.info()\n"
   ]
  },
  {
   "cell_type": "code",
   "execution_count": 28,
   "id": "metallic-providence",
   "metadata": {},
   "outputs": [
    {
     "data": {
      "text/html": [
       "<div>\n",
       "<style scoped>\n",
       "    .dataframe tbody tr th:only-of-type {\n",
       "        vertical-align: middle;\n",
       "    }\n",
       "\n",
       "    .dataframe tbody tr th {\n",
       "        vertical-align: top;\n",
       "    }\n",
       "\n",
       "    .dataframe thead th {\n",
       "        text-align: right;\n",
       "    }\n",
       "</style>\n",
       "<table border=\"1\" class=\"dataframe\">\n",
       "  <thead>\n",
       "    <tr style=\"text-align: right;\">\n",
       "      <th>button</th>\n",
       "      <th>heart</th>\n",
       "      <th>star</th>\n",
       "    </tr>\n",
       "    <tr>\n",
       "      <th>group</th>\n",
       "      <th></th>\n",
       "      <th></th>\n",
       "    </tr>\n",
       "  </thead>\n",
       "  <tbody>\n",
       "    <tr>\n",
       "      <th>control</th>\n",
       "      <td>136002</td>\n",
       "      <td>1816</td>\n",
       "    </tr>\n",
       "    <tr>\n",
       "      <th>treatment</th>\n",
       "      <td>1855</td>\n",
       "      <td>136108</td>\n",
       "    </tr>\n",
       "  </tbody>\n",
       "</table>\n",
       "</div>"
      ],
      "text/plain": [
       "button      heart    star\n",
       "group                    \n",
       "control    136002    1816\n",
       "treatment    1855  136108"
      ]
     },
     "execution_count": 28,
     "metadata": {},
     "output_type": "execute_result"
    }
   ],
   "source": [
    "# Make sure all the control group are seeing the star button and viceversa\n",
    "pd.crosstab(df['group'], df['button'])"
   ]
  },
  {
   "cell_type": "code",
   "execution_count": 29,
   "id": "fancy-lucas",
   "metadata": {},
   "outputs": [
    {
     "name": "stdout",
     "output_type": "stream",
     "text": [
      "3453\n"
     ]
    }
   ],
   "source": [
    "# Check that no users have been sampled multiple times \n",
    "session_counts = df['user_id'].value_counts(ascending=False)\n",
    "multi_users = session_counts[session_counts > 1].count()\n",
    "\n",
    "print(multi_users)\n"
   ]
  },
  {
   "cell_type": "code",
   "execution_count": 30,
   "id": "appreciated-thomas",
   "metadata": {},
   "outputs": [
    {
     "name": "stdout",
     "output_type": "stream",
     "text": [
      "268875\n"
     ]
    }
   ],
   "source": [
    "# If there are users who have been sampled multiple times, remove them from the dataframe\n",
    "users_to_drop = session_counts[session_counts > 1].index\n",
    "\n",
    "df = df[~df['user_id'].isin(users_to_drop)]\n",
    "print(df.shape[0])\n"
   ]
  },
  {
   "cell_type": "markdown",
   "id": "skilled-apple",
   "metadata": {},
   "source": [
    "#### Now that our DataFrame is nice and clean, we can proceed and sample n=4720 entries for each of the groups. We can use pandas' DataFrame.sample() method to do this, which will perform Simple Random Sampling for us."
   ]
  },
  {
   "cell_type": "code",
   "execution_count": 31,
   "id": "absolute-runner",
   "metadata": {},
   "outputs": [],
   "source": [
    "# Perform simple random sampling to split the data into control and treatment I decided to use required_n instead of 4720\n",
    "control_sample = df[df['group'] == 'control'].sample(n=required_n , random_state=22)\n",
    "treatment_sample = df[df['group'] == 'treatment'].sample(n=required_n , random_state=22)\n"
   ]
  },
  {
   "cell_type": "code",
   "execution_count": 32,
   "id": "durable-belfast",
   "metadata": {},
   "outputs": [
    {
     "data": {
      "text/html": [
       "<div>\n",
       "<style scoped>\n",
       "    .dataframe tbody tr th:only-of-type {\n",
       "        vertical-align: middle;\n",
       "    }\n",
       "\n",
       "    .dataframe tbody tr th {\n",
       "        vertical-align: top;\n",
       "    }\n",
       "\n",
       "    .dataframe thead th {\n",
       "        text-align: right;\n",
       "    }\n",
       "</style>\n",
       "<table border=\"1\" class=\"dataframe\">\n",
       "  <thead>\n",
       "    <tr style=\"text-align: right;\">\n",
       "      <th></th>\n",
       "      <th>user_id</th>\n",
       "      <th>timestamp</th>\n",
       "      <th>group</th>\n",
       "      <th>button</th>\n",
       "      <th>liked</th>\n",
       "    </tr>\n",
       "  </thead>\n",
       "  <tbody>\n",
       "    <tr>\n",
       "      <th>0</th>\n",
       "      <td>644761</td>\n",
       "      <td>2017-01-20 5:19:16</td>\n",
       "      <td>control</td>\n",
       "      <td>heart</td>\n",
       "      <td>0</td>\n",
       "    </tr>\n",
       "    <tr>\n",
       "      <th>1</th>\n",
       "      <td>856804</td>\n",
       "      <td>2017-01-02 23:19:00</td>\n",
       "      <td>control</td>\n",
       "      <td>heart</td>\n",
       "      <td>0</td>\n",
       "    </tr>\n",
       "    <tr>\n",
       "      <th>2</th>\n",
       "      <td>728826</td>\n",
       "      <td>2017-01-03 4:16:37</td>\n",
       "      <td>control</td>\n",
       "      <td>heart</td>\n",
       "      <td>0</td>\n",
       "    </tr>\n",
       "    <tr>\n",
       "      <th>3</th>\n",
       "      <td>865441</td>\n",
       "      <td>2017-01-19 3:59:57</td>\n",
       "      <td>control</td>\n",
       "      <td>heart</td>\n",
       "      <td>0</td>\n",
       "    </tr>\n",
       "    <tr>\n",
       "      <th>4</th>\n",
       "      <td>796969</td>\n",
       "      <td>2017-01-05 4:08:26</td>\n",
       "      <td>control</td>\n",
       "      <td>heart</td>\n",
       "      <td>0</td>\n",
       "    </tr>\n",
       "    <tr>\n",
       "      <th>...</th>\n",
       "      <td>...</td>\n",
       "      <td>...</td>\n",
       "      <td>...</td>\n",
       "      <td>...</td>\n",
       "      <td>...</td>\n",
       "    </tr>\n",
       "    <tr>\n",
       "      <th>2393</th>\n",
       "      <td>647852</td>\n",
       "      <td>2017-01-16 4:47:04</td>\n",
       "      <td>treatment</td>\n",
       "      <td>star</td>\n",
       "      <td>0</td>\n",
       "    </tr>\n",
       "    <tr>\n",
       "      <th>2394</th>\n",
       "      <td>814529</td>\n",
       "      <td>2017-01-15 1:01:37</td>\n",
       "      <td>treatment</td>\n",
       "      <td>star</td>\n",
       "      <td>1</td>\n",
       "    </tr>\n",
       "    <tr>\n",
       "      <th>2395</th>\n",
       "      <td>924465</td>\n",
       "      <td>2017-01-13 8:37:42</td>\n",
       "      <td>treatment</td>\n",
       "      <td>star</td>\n",
       "      <td>0</td>\n",
       "    </tr>\n",
       "    <tr>\n",
       "      <th>2396</th>\n",
       "      <td>660778</td>\n",
       "      <td>2017-01-12 1:55:29</td>\n",
       "      <td>treatment</td>\n",
       "      <td>star</td>\n",
       "      <td>0</td>\n",
       "    </tr>\n",
       "    <tr>\n",
       "      <th>2397</th>\n",
       "      <td>868855</td>\n",
       "      <td>2017-01-12 20:23:56</td>\n",
       "      <td>treatment</td>\n",
       "      <td>star</td>\n",
       "      <td>0</td>\n",
       "    </tr>\n",
       "  </tbody>\n",
       "</table>\n",
       "<p>2398 rows × 5 columns</p>\n",
       "</div>"
      ],
      "text/plain": [
       "      user_id            timestamp      group button  liked\n",
       "0      644761   2017-01-20 5:19:16    control  heart      0\n",
       "1      856804  2017-01-02 23:19:00    control  heart      0\n",
       "2      728826   2017-01-03 4:16:37    control  heart      0\n",
       "3      865441   2017-01-19 3:59:57    control  heart      0\n",
       "4      796969   2017-01-05 4:08:26    control  heart      0\n",
       "...       ...                  ...        ...    ...    ...\n",
       "2393   647852   2017-01-16 4:47:04  treatment   star      0\n",
       "2394   814529   2017-01-15 1:01:37  treatment   star      1\n",
       "2395   924465   2017-01-13 8:37:42  treatment   star      0\n",
       "2396   660778   2017-01-12 1:55:29  treatment   star      0\n",
       "2397   868855  2017-01-12 20:23:56  treatment   star      0\n",
       "\n",
       "[2398 rows x 5 columns]"
      ]
     },
     "execution_count": 32,
     "metadata": {},
     "output_type": "execute_result"
    }
   ],
   "source": [
    "# Create one table called ab_test that has both the cleaned control and treatment data\n",
    "ab_test = pd.concat([control_sample, treatment_sample], axis=0)\n",
    "ab_test.reset_index(drop=True, inplace=True)\n",
    "ab_test\n"
   ]
  },
  {
   "cell_type": "code",
   "execution_count": 33,
   "id": "conservative-occasions",
   "metadata": {},
   "outputs": [
    {
     "data": {
      "text/plain": [
       "treatment    1199\n",
       "control      1199\n",
       "Name: group, dtype: int64"
      ]
     },
     "execution_count": 33,
     "metadata": {},
     "output_type": "execute_result"
    }
   ],
   "source": [
    "# Count the test groups to make sure that they're balanced \n",
    "ab_test['group'].value_counts()\n",
    "\n"
   ]
  },
  {
   "cell_type": "markdown",
   "id": "metric-skill",
   "metadata": {},
   "source": [
    "### Analysis Visualization"
   ]
  },
  {
   "cell_type": "code",
   "execution_count": 34,
   "id": "satisfied-victoria",
   "metadata": {},
   "outputs": [
    {
     "data": {
      "text/html": [
       "<style  type=\"text/css\" >\n",
       "</style><table id=\"T_1d8d3_\" ><thead>    <tr>        <th class=\"blank level0\" ></th>        <th class=\"col_heading level0 col0\" >like_rate</th>        <th class=\"col_heading level0 col1\" >std_deviation</th>        <th class=\"col_heading level0 col2\" >std_error</th>    </tr>    <tr>        <th class=\"index_name level0\" >group</th>        <th class=\"blank\" ></th>        <th class=\"blank\" ></th>        <th class=\"blank\" ></th>    </tr></thead><tbody>\n",
       "                <tr>\n",
       "                        <th id=\"T_1d8d3_level0_row0\" class=\"row_heading level0 row0\" >control</th>\n",
       "                        <td id=\"T_1d8d3_row0_col0\" class=\"data row0 col0\" >0.109</td>\n",
       "                        <td id=\"T_1d8d3_row0_col1\" class=\"data row0 col1\" >0.312</td>\n",
       "                        <td id=\"T_1d8d3_row0_col2\" class=\"data row0 col2\" >0.009</td>\n",
       "            </tr>\n",
       "            <tr>\n",
       "                        <th id=\"T_1d8d3_level0_row1\" class=\"row_heading level0 row1\" >treatment</th>\n",
       "                        <td id=\"T_1d8d3_row1_col0\" class=\"data row1 col0\" >0.118</td>\n",
       "                        <td id=\"T_1d8d3_row1_col1\" class=\"data row1 col1\" >0.323</td>\n",
       "                        <td id=\"T_1d8d3_row1_col2\" class=\"data row1 col2\" >0.009</td>\n",
       "            </tr>\n",
       "    </tbody></table>"
      ],
      "text/plain": [
       "<pandas.io.formats.style.Styler at 0x2112416c820>"
      ]
     },
     "execution_count": 34,
     "metadata": {},
     "output_type": "execute_result"
    }
   ],
   "source": [
    "# Find the like rate by group\n",
    "like_rates = ab_test.groupby('group')['liked']\n",
    "\n",
    "std_p = lambda x: np.std(x)              # compute the std. deviation of the proportion\n",
    "se_p = lambda x: stats.sem(x)            # compute the std error of the proportion (std / sqrt(n))\n",
    "\n",
    "like_rates = like_rates.agg([np.mean, std_p, se_p])\n",
    "like_rates.columns = ['like_rate', 'std_deviation', 'std_error']\n",
    "\n",
    "\n",
    "like_rates.style.format('{:.3f}')\n",
    "\n",
    "# Find the Std. deviation of the proportion\n",
    "\n",
    "\n",
    "# Find the Std. error of the proportion (std / sqrt(n))\n",
    "\n",
    "\n",
    "# Calculate the final like rate\n"
   ]
  },
  {
   "cell_type": "code",
   "execution_count": 35,
   "id": "reflected-ecology",
   "metadata": {},
   "outputs": [
    {
     "data": {
      "image/png": "[encoded data removed]",
      "text/plain": [
       "<Figure size 576x432 with 1 Axes>"
      ]
     },
     "metadata": {
      "needs_background": "light"
     },
     "output_type": "display_data"
    }
   ],
   "source": [
    "# Plot the like rate by group on a bar plot\n",
    "\n",
    "plt.figure(figsize=(8,6))\n",
    "\n",
    "sns.barplot(x=ab_test['group'], y=ab_test['liked'], ci=False)\n",
    "\n",
    "plt.ylim(0, 0.17)\n",
    "plt.title('Like rate by group', pad=20)\n",
    "plt.xlabel('Group', labelpad=15)\n",
    "plt.ylabel('Liked (proportion)', labelpad=15);"
   ]
  },
  {
   "cell_type": "markdown",
   "id": "adolescent-footage",
   "metadata": {},
   "source": [
    "### Testing for Stat Sig"
   ]
  },
  {
   "cell_type": "code",
   "execution_count": 36,
   "id": "precious-chicken",
   "metadata": {},
   "outputs": [
    {
     "name": "stdout",
     "output_type": "stream",
     "text": [
      "1199\n",
      "1199\n",
      "[131, 142]\n",
      "[1199, 1199]\n"
     ]
    }
   ],
   "source": [
    "from statsmodels.stats.proportion import proportions_ztest, proportion_confint\n",
    "\n",
    "# Get the like count for both control and treatment groups\n",
    "\n",
    "from statsmodels.stats.proportion import proportions_ztest, proportion_confint\n",
    "\n",
    "control_results = ab_test[ab_test['group'] == 'control']['liked']\n",
    "treatment_results = ab_test[ab_test['group'] == 'treatment']['liked']\n",
    "\n",
    "n_con = control_results.count()\n",
    "n_treat = treatment_results.count()\n",
    "\n",
    "successes = [control_results.sum(), treatment_results.sum()]\n",
    "nobs = [n_con, n_treat]\n",
    "\n",
    "print(n_con)\n",
    "print(n_treat)\n",
    "print(successes)\n",
    "print(nobs)\n",
    "# Get the number of samples in both groups\n",
    "\n",
    "\n",
    "# Sum up the number of successes (likes) in both groups\n"
   ]
  },
  {
   "cell_type": "code",
   "execution_count": 37,
   "id": "lesbian-emperor",
   "metadata": {},
   "outputs": [],
   "source": [
    "# Find the z statistic and p value for proportions based on normal ztest\n",
    "z_stat, pval = proportions_ztest(successes, nobs=nobs) #Test for proportions based on normal ztest\n",
    "(lower_con, lower_treat), (upper_con, upper_treat) = proportion_confint(successes, nobs=nobs, alpha=0.05) #confidence interval for a binomial proportion\n",
    "\n",
    "# Find the confidence intervals for each test group\n",
    "\n"
   ]
  },
  {
   "cell_type": "code",
   "execution_count": 38,
   "id": "filled-quality",
   "metadata": {},
   "outputs": [
    {
     "name": "stdout",
     "output_type": "stream",
     "text": [
      "z statistic: -0.71\n",
      "p-value: 0.479\n",
      "ci 95% for control group: [0.092, 0.127]\n",
      "ci 95% for treatment group: [0.100, 0.137]\n"
     ]
    },
    {
     "data": {
      "text/html": [
       "<style  type=\"text/css\" >\n",
       "</style><table id=\"T_9cec9_\" ><thead>    <tr>        <th class=\"blank level0\" ></th>        <th class=\"col_heading level0 col0\" >like_rate</th>        <th class=\"col_heading level0 col1\" >std_deviation</th>        <th class=\"col_heading level0 col2\" >std_error</th>    </tr>    <tr>        <th class=\"index_name level0\" >group</th>        <th class=\"blank\" ></th>        <th class=\"blank\" ></th>        <th class=\"blank\" ></th>    </tr></thead><tbody>\n",
       "                <tr>\n",
       "                        <th id=\"T_9cec9_level0_row0\" class=\"row_heading level0 row0\" >control</th>\n",
       "                        <td id=\"T_9cec9_row0_col0\" class=\"data row0 col0\" >0.109</td>\n",
       "                        <td id=\"T_9cec9_row0_col1\" class=\"data row0 col1\" >0.312</td>\n",
       "                        <td id=\"T_9cec9_row0_col2\" class=\"data row0 col2\" >0.009</td>\n",
       "            </tr>\n",
       "            <tr>\n",
       "                        <th id=\"T_9cec9_level0_row1\" class=\"row_heading level0 row1\" >treatment</th>\n",
       "                        <td id=\"T_9cec9_row1_col0\" class=\"data row1 col0\" >0.118</td>\n",
       "                        <td id=\"T_9cec9_row1_col1\" class=\"data row1 col1\" >0.323</td>\n",
       "                        <td id=\"T_9cec9_row1_col2\" class=\"data row1 col2\" >0.009</td>\n",
       "            </tr>\n",
       "    </tbody></table>"
      ],
      "text/plain": [
       "<pandas.io.formats.style.Styler at 0x2112167c880>"
      ]
     },
     "execution_count": 38,
     "metadata": {},
     "output_type": "execute_result"
    }
   ],
   "source": [
    "# print z statistic\n",
    "\n",
    "# print p-value\n",
    "\n",
    "# print ci 95% for control group\n",
    "\n",
    "# print ci 95% for treatment group\n",
    "print(f'z statistic: {z_stat:.2f}')\n",
    "print(f'p-value: {pval:.3f}')\n",
    "print(f'ci 95% for control group: [{lower_con:.3f}, {upper_con:.3f}]')\n",
    "print(f'ci 95% for treatment group: [{lower_treat:.3f}, {upper_treat:.3f}]')\n",
    "like_rates.style.format('{:.3f}')"
   ]
  },
  {
   "cell_type": "markdown",
   "id": "closing-technique",
   "metadata": {},
   "source": [
    "### Were the results signficant? "
   ]
  },
  {
   "cell_type": "code",
   "execution_count": 1,
   "id": "respected-uganda",
   "metadata": {},
   "outputs": [
    {
     "name": "stdout",
     "output_type": "stream",
     "text": [
      "There is a 1% difference which is vital despite being miniscule.\n"
     ]
    }
   ],
   "source": [
    "print(\"There is a 4-5% difference from 6% which is vital despite being miniscule.\")"
   ]
  },
  {
   "cell_type": "markdown",
   "id": "connected-tiffany",
   "metadata": {},
   "source": [
    "### What would you advise the engineering team to do moving forward?"
   ]
  },
  {
   "cell_type": "code",
   "execution_count": null,
   "id": "polar-power",
   "metadata": {},
   "outputs": [],
   "source": [
    "print(\"They should adapt the star as it is more popular.\")"
   ]
  }
 ],
 "metadata": {
  "kernelspec": {
   "display_name": "Python 3",
   "language": "python",
   "name": "python3"
  },
  "language_info": {
   "codemirror_mode": {
    "name": "ipython",
    "version": 3
   },
   "file_extension": ".py",
   "mimetype": "text/x-python",
   "name": "python",
   "nbconvert_exporter": "python",
   "pygments_lexer": "ipython3",
   "version": "3.8.8"
  }
 },
 "nbformat": 4,
 "nbformat_minor": 5
}
